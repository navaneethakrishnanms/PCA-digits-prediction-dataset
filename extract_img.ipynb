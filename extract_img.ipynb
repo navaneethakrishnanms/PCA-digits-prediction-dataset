{
 "cells": [
  {
   "cell_type": "code",
   "execution_count": 2,
   "id": "87bfcc15",
   "metadata": {},
   "outputs": [
    {
     "name": "stdout",
     "output_type": "stream",
     "text": [
      "✅ 10 images per digit (0–9) saved into 'digits_dataset_10'\n"
     ]
    }
   ],
   "source": [
    "import os\n",
    "import pandas as pd\n",
    "import numpy as np\n",
    "from PIL import Image\n",
    "\n",
    "# Load your dataset\n",
    "df = pd.read_csv(\"DIGITS.csv\")\n",
    "\n",
    "# Split into features and target\n",
    "X = df.drop(\"target\", axis=1)\n",
    "y = df[\"target\"]\n",
    "\n",
    "# Create base dataset folder\n",
    "base_dir = \"digits_dataset_10\"\n",
    "os.makedirs(base_dir, exist_ok=True)\n",
    "\n",
    "# Keep track of how many images saved per class\n",
    "saved_counts = {str(i): 0 for i in range(10)}\n",
    "\n",
    "# Loop through rows\n",
    "for idx in range(len(X)):\n",
    "    label = str(y.iloc[idx])   # digit label (0–9)\n",
    "\n",
    "    # Only save if less than 10 already saved for this class\n",
    "    if saved_counts[label] < 10:\n",
    "        img_array = X.iloc[idx].values.reshape(8, 8)\n",
    "\n",
    "        # Scale 0–16 → 0–255 for saving\n",
    "        img = Image.fromarray((img_array * 16).astype(np.uint8))\n",
    "\n",
    "        # Create label folder\n",
    "        label_folder = os.path.join(base_dir, label)\n",
    "        os.makedirs(label_folder, exist_ok=True)\n",
    "\n",
    "        # Save image\n",
    "        img.save(os.path.join(label_folder, f\"digit_{idx}.png\"))\n",
    "\n",
    "        # Update count\n",
    "        saved_counts[label] += 1\n",
    "\n",
    "    # Stop if all classes have 10\n",
    "    if all(count >= 10 for count in saved_counts.values()):\n",
    "        break\n",
    "\n",
    "print(\"✅ 10 images per digit (0–9) saved into 'digits_dataset_10'\")\n"
   ]
  }
 ],
 "metadata": {
  "kernelspec": {
   "display_name": "base",
   "language": "python",
   "name": "python3"
  },
  "language_info": {
   "codemirror_mode": {
    "name": "ipython",
    "version": 3
   },
   "file_extension": ".py",
   "mimetype": "text/x-python",
   "name": "python",
   "nbconvert_exporter": "python",
   "pygments_lexer": "ipython3",
   "version": "3.13.5"
  }
 },
 "nbformat": 4,
 "nbformat_minor": 5
}
